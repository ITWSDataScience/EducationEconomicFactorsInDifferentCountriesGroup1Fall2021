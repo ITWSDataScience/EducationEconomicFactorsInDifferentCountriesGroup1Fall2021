{
  "nbformat": 4,
  "nbformat_minor": 0,
  "metadata": {
    "kernelspec": {
      "display_name": "Python 2",
      "language": "python",
      "name": "python2"
    },
    "language_info": {
      "codemirror_mode": {
        "name": "ipython",
        "version": 2
      },
      "file_extension": ".py",
      "mimetype": "text/x-python",
      "name": "python",
      "nbconvert_exporter": "python",
      "pygments_lexer": "ipython2",
      "version": "2.7.6"
    },
    "colab": {
      "name": "analyze_data.ipynb",
      "provenance": []
    }
  },
  "cells": [
    {
      "cell_type": "code",
      "metadata": {
        "collapsed": true,
        "id": "T4uqqLQm4gZM"
      },
      "source": [
        "import pandas as pd\n",
        "import numpy as np"
      ],
      "execution_count": 2,
      "outputs": []
    },
    {
      "cell_type": "code",
      "metadata": {
        "id": "dbuXOrGw41jf"
      },
      "source": [
        "cluster = 4"
      ],
      "execution_count": 3,
      "outputs": []
    },
    {
      "cell_type": "code",
      "metadata": {
        "id": "T0FbuH-n4gZO"
      },
      "source": [
        "country_data = pd.read_csv(\"synthesized_data.csv\")"
      ],
      "execution_count": 5,
      "outputs": []
    },
    {
      "cell_type": "code",
      "metadata": {
        "colab": {
          "base_uri": "https://localhost:8080/"
        },
        "id": "ROU5nRbx4gZO",
        "outputId": "aedb0fb3-6609-4eb4-a7a2-fd22e943598c"
      },
      "source": [
        "country_data.shape"
      ],
      "execution_count": 6,
      "outputs": [
        {
          "output_type": "execute_result",
          "data": {
            "text/plain": [
              "(178, 28)"
            ]
          },
          "metadata": {},
          "execution_count": 6
        }
      ]
    },
    {
      "cell_type": "code",
      "metadata": {
        "colab": {
          "base_uri": "https://localhost:8080/"
        },
        "id": "K7oA-Lct4gZP",
        "outputId": "80139f3c-942b-4a1d-ad81-2f21c516a2a8"
      },
      "source": [
        "country_data.isnull().sum()"
      ],
      "execution_count": 7,
      "outputs": [
        {
          "output_type": "execute_result",
          "data": {
            "text/plain": [
              "Country                                     0\n",
              "Population (thousands)                      5\n",
              "Compulsory attendance amount               12\n",
              "Early education attendance rate           127\n",
              "Primary enrollment                          3\n",
              "Secondary enrollment                        4\n",
              "Tertiary enrollment                        18\n",
              "Male literacy rate                         50\n",
              "Female literacy rate                       50\n",
              "Primary completion rate                     3\n",
              "Primary to secondary transition rate        6\n",
              "Primary drop out rate                       6\n",
              "Lower secondary repeaters count             3\n",
              "Primary repeaters count                     0\n",
              "Primary repeaters rate                      0\n",
              "School life expectancy                      1\n",
              "Lower secondary teacher-student ratio      25\n",
              "Primary teacher-student ratio               0\n",
              "Upper secondary teacher-student ratio      28\n",
              "Education spending (percentage of GDP)      4\n",
              "Unemployment rate                          12\n",
              "Child labor percentage                     81\n",
              "Average income                             94\n",
              "Average income currency                    94\n",
              "Average Income GNI                          3\n",
              "GDP (USD)                                   2\n",
              "Labor force count                          84\n",
              "Three year average unnourished count       84\n",
              "dtype: int64"
            ]
          },
          "metadata": {},
          "execution_count": 7
        }
      ]
    },
    {
      "cell_type": "code",
      "metadata": {
        "id": "4Cg2HH-54gZP"
      },
      "source": [
        "country_data['Primary enrollment rate'] = country_data['Primary enrollment'] / country_data['Population (thousands)']\n",
        "country_data['Secondary enrollment rate'] = country_data['Secondary enrollment'] / country_data['Population (thousands)']\n",
        "country_data['Tertiary enrollment rate'] = country_data['Tertiary enrollment'] / country_data['Population (thousands)']\n",
        "country_data['Lower secondary repeaters rate'] = country_data['Lower secondary repeaters count'] / country_data['Population (thousands)']\n",
        "useful_data = country_data.loc[:, ~country_data.columns.isin(['Country', 'Primary enrollment', 'Secondary enrollment', 'Tertiary enrollment', 'Lower secondary repeaters count', 'Primary repeaters count', 'Average income', 'Average income currency'])]"
      ],
      "execution_count": 8,
      "outputs": []
    },
    {
      "cell_type": "code",
      "metadata": {
        "colab": {
          "base_uri": "https://localhost:8080/"
        },
        "id": "aB1gheN-4gZQ",
        "outputId": "1472020b-9c8c-4a7a-f1bb-44589ff97570"
      },
      "source": [
        "useful_data.isnull().sum()"
      ],
      "execution_count": 9,
      "outputs": [
        {
          "output_type": "execute_result",
          "data": {
            "text/plain": [
              "Population (thousands)                      5\n",
              "Compulsory attendance amount               12\n",
              "Early education attendance rate           127\n",
              "Male literacy rate                         50\n",
              "Female literacy rate                       50\n",
              "Primary completion rate                     3\n",
              "Primary to secondary transition rate        6\n",
              "Primary drop out rate                       6\n",
              "Primary repeaters rate                      0\n",
              "School life expectancy                      1\n",
              "Lower secondary teacher-student ratio      25\n",
              "Primary teacher-student ratio               0\n",
              "Upper secondary teacher-student ratio      28\n",
              "Education spending (percentage of GDP)      4\n",
              "Unemployment rate                          12\n",
              "Child labor percentage                     81\n",
              "Average Income GNI                          3\n",
              "GDP (USD)                                   2\n",
              "Labor force count                          84\n",
              "Three year average unnourished count       84\n",
              "Primary enrollment rate                     8\n",
              "Secondary enrollment rate                   9\n",
              "Tertiary enrollment rate                   23\n",
              "Lower secondary repeaters rate              8\n",
              "dtype: int64"
            ]
          },
          "metadata": {},
          "execution_count": 9
        }
      ]
    },
    {
      "cell_type": "code",
      "metadata": {
        "id": "Dnh3HeCa4gZQ"
      },
      "source": [
        "from sklearn.impute import SimpleImputer\n",
        "\n",
        "imputer = SimpleImputer(missing_values=np.nan, strategy='median')\n",
        "imputed_data = pd.DataFrame(imputer.fit_transform(useful_data))\n",
        "standardized_data = (imputed_data-imputed_data.mean())/imputed_data.std()"
      ],
      "execution_count": 10,
      "outputs": []
    },
    {
      "cell_type": "code",
      "metadata": {
        "id": "jzRFoVS94gZQ"
      },
      "source": [
        "from sklearn.decomposition import PCA\n",
        "pca_countries = PCA(n_components=2)\n",
        "principalComponents_countries = pca_countries.fit_transform(standardized_data)"
      ],
      "execution_count": null,
      "outputs": []
    },
    {
      "cell_type": "code",
      "metadata": {
        "colab": {
          "base_uri": "https://localhost:8080/",
          "height": 282
        },
        "id": "aI6cXxXT4gZQ",
        "outputId": "ea4e03cf-841d-4e50-b0db-bf0697e52b16"
      },
      "source": [
        "import matplotlib.pyplot as plt\n",
        "%matplotlib inline\n",
        "\n",
        "plt.scatter(principalComponents_countries[:, 0], principalComponents_countries[:, 1])"
      ],
      "execution_count": null,
      "outputs": [
        {
          "output_type": "execute_result",
          "data": {
            "text/plain": [
              "<matplotlib.collections.PathCollection at 0x7f71321d8250>"
            ]
          },
          "metadata": {},
          "execution_count": 766
        },
        {
          "output_type": "display_data",
          "data": {
            "image/png": "[encoded data removed]",
            "text/plain": [
              "<Figure size 432x288 with 1 Axes>"
            ]
          },
          "metadata": {
            "needs_background": "light"
          }
        }
      ]
    },
    {
      "cell_type": "code",
      "metadata": {
        "id": "LWskfzdu4gZR"
      },
      "source": [
        "from sklearn.cluster import KMeans\n",
        "\n",
        "kmeans = KMeans(n_clusters=cluster)\n",
        "cluster_vals = kmeans.fit_predict(standardized_data)"
      ],
      "execution_count": null,
      "outputs": []
    },
    {
      "cell_type": "code",
      "metadata": {
        "colab": {
          "base_uri": "https://localhost:8080/",
          "height": 282
        },
        "id": "LlOYWggt4gZR",
        "outputId": "19b2f055-c900-4d0a-b235-7c7213a9cd66"
      },
      "source": [
        "plt.scatter(principalComponents_countries[cluster_vals ==0,0], principalComponents_countries[cluster_vals == 0,1], s=100, c='red')\n",
        "plt.scatter(principalComponents_countries[cluster_vals ==1,0], principalComponents_countries[cluster_vals == 1,1], s=100, c='black')\n",
        "plt.scatter(principalComponents_countries[cluster_vals ==2,0], principalComponents_countries[cluster_vals == 2,1], s=100, c='blue')\n",
        "plt.scatter(principalComponents_countries[cluster_vals ==3,0], principalComponents_countries[cluster_vals == 3,1], s=100, c='green')\n",
        "plt.scatter(principalComponents_countries[cluster_vals ==4,0], principalComponents_countries[cluster_vals == 4,1], s=100, c='cyan')\n",
        "plt.scatter(principalComponents_countries[cluster_vals ==5,0], principalComponents_countries[cluster_vals == 5,1], s=100, c='purple')\n",
        "plt.scatter(principalComponents_countries[cluster_vals ==6,0], principalComponents_countries[cluster_vals == 6,1], s=100, c='orange')\n",
        "plt.scatter(principalComponents_countries[cluster_vals ==7,0], principalComponents_countries[cluster_vals == 7,1], s=100, c='yellow')\n",
        "plt.scatter(principalComponents_countries[cluster_vals ==8,0], principalComponents_countries[cluster_vals == 8,1], s=100, c='grey')\n",
        "plt.scatter(principalComponents_countries[cluster_vals ==9,0], principalComponents_countries[cluster_vals == 9,1], s=100, c='brown')\n",
        "plt.scatter(principalComponents_countries[cluster_vals ==10,0], principalComponents_countries[cluster_vals == 10,1], s=100, c='magenta')\n",
        "plt.scatter(principalComponents_countries[cluster_vals ==11,0], principalComponents_countries[cluster_vals == 11,1], s=100, c='lime')\n",
        "plt.scatter(principalComponents_countries[cluster_vals ==12,0], principalComponents_countries[cluster_vals == 12,1], s=100, c='pink')\n",
        "plt.scatter(principalComponents_countries[cluster_vals ==13,0], principalComponents_countries[cluster_vals == 13,1], s=100, c='maroon')\n",
        "plt.scatter(principalComponents_countries[cluster_vals ==14,0], principalComponents_countries[cluster_vals == 14,1], s=100, c='azure')"
      ],
      "execution_count": null,
      "outputs": [
        {
          "output_type": "execute_result",
          "data": {
            "text/plain": [
              "<matplotlib.collections.PathCollection at 0x7f7132130710>"
            ]
          },
          "metadata": {},
          "execution_count": 768
        },
        {
          "output_type": "display_data",
          "data": {
            "image/png": "[encoded data removed]",
            "text/plain": [
              "<Figure size 432x288 with 1 Axes>"
            ]
          },
          "metadata": {
            "needs_background": "light"
          }
        }
      ]
    },
    {
      "cell_type": "code",
      "metadata": {
        "id": "Z0N0gvRw4gZS"
      },
      "source": [
        "cv_sr = pd.Series(cluster_vals)\n",
        "clusters = []\n",
        "for i in range(cluster):\n",
        "    clusters.append(country_data['Country'][cv_sr == i].to_list())"
      ],
      "execution_count": null,
      "outputs": []
    },
    {
      "cell_type": "code",
      "metadata": {
        "colab": {
          "base_uri": "https://localhost:8080/"
        },
        "id": "wvWor1974gZS",
        "outputId": "932b4784-4e81-46e0-b494-4ceb88e0b0a0"
      },
      "source": [
        "clusters"
      ],
      "execution_count": null,
      "outputs": [
        {
          "output_type": "execute_result",
          "data": {
            "text/plain": [
              "[['Albania',\n",
              "  'Argentina',\n",
              "  'Armenia',\n",
              "  'Aruba',\n",
              "  'Austria',\n",
              "  'Azerbaijan',\n",
              "  'Bahamas',\n",
              "  'Bahrain',\n",
              "  'Barbados',\n",
              "  'Belarus',\n",
              "  'Belgium',\n",
              "  'Bermuda',\n",
              "  'Bosnia and Herzegovina',\n",
              "  'Brunei Darussalam',\n",
              "  'Bulgaria',\n",
              "  'Canada',\n",
              "  'Chile',\n",
              "  'Croatia',\n",
              "  'Cuba',\n",
              "  'Cyprus',\n",
              "  'Czech Republic',\n",
              "  \"Democratic People's Republic of Korea\",\n",
              "  'Denmark',\n",
              "  'Estonia',\n",
              "  'Finland',\n",
              "  'France',\n",
              "  'Georgia',\n",
              "  'Germany',\n",
              "  'Greece',\n",
              "  'Hong Kong SAR, China',\n",
              "  'Hungary',\n",
              "  'Iceland',\n",
              "  'Indonesia',\n",
              "  'Iran',\n",
              "  'Ireland',\n",
              "  'Israel',\n",
              "  'Italy',\n",
              "  'Japan',\n",
              "  'Jordan',\n",
              "  'Kazakhstan',\n",
              "  'Kuwait',\n",
              "  'Kyrgyz Republic',\n",
              "  'Latvia',\n",
              "  'Lebanon',\n",
              "  'Liechtenstein',\n",
              "  'Lithuania',\n",
              "  'Luxembourg',\n",
              "  'Macao (Macau) SAR, China',\n",
              "  'Macedonia',\n",
              "  'Malaysia',\n",
              "  'Malta',\n",
              "  'Mauritius',\n",
              "  'Mexico',\n",
              "  'Moldova',\n",
              "  'Mongolia',\n",
              "  'Netherlands',\n",
              "  'New Zealand',\n",
              "  'Norway',\n",
              "  'Oman',\n",
              "  'Palau',\n",
              "  'Poland',\n",
              "  'Qatar',\n",
              "  'Romania',\n",
              "  'Russian Federation',\n",
              "  'San Marino',\n",
              "  'Saudi Arabia',\n",
              "  'Serbia',\n",
              "  'Seychelles',\n",
              "  'Singapore',\n",
              "  'Slovakia',\n",
              "  'Slovenia',\n",
              "  'Spain',\n",
              "  'Sri Lanka',\n",
              "  'Sweden',\n",
              "  'Switzerland',\n",
              "  'Tajikistan',\n",
              "  'Thailand',\n",
              "  'Trinidad and Tobago',\n",
              "  'Turkey',\n",
              "  'Ukraine',\n",
              "  'United Arab Emirates',\n",
              "  'United Kingdom',\n",
              "  'Uzbekistan',\n",
              "  'Venezuela',\n",
              "  'Vietnam'],\n",
              " ['Algeria',\n",
              "  'Antigua and Barbuda',\n",
              "  'Belize',\n",
              "  'Bhutan',\n",
              "  'Bolivia',\n",
              "  'Botswana',\n",
              "  'Brazil',\n",
              "  'Colombia',\n",
              "  'Comoros',\n",
              "  'Costa Rica',\n",
              "  'Djibouti',\n",
              "  'Dominica',\n",
              "  'Dominican Republic',\n",
              "  'Ecuador',\n",
              "  'Egypt',\n",
              "  'El Salvador',\n",
              "  'Fiji',\n",
              "  'Gabon',\n",
              "  'Gambia',\n",
              "  'Ghana',\n",
              "  'Guatemala',\n",
              "  'Guyana',\n",
              "  'Honduras',\n",
              "  'Iraq',\n",
              "  'Jamaica',\n",
              "  'Kiribati',\n",
              "  \"Lao People's Democratic Republic\",\n",
              "  'Lesotho',\n",
              "  'Libya',\n",
              "  'Maldives',\n",
              "  'Marshall Islands',\n",
              "  'Morocco',\n",
              "  'Myanmar',\n",
              "  'Namibia',\n",
              "  'Nicaragua',\n",
              "  'Panama',\n",
              "  'Paraguay',\n",
              "  'Peru',\n",
              "  'Philippines',\n",
              "  'Portugal',\n",
              "  'Samoa',\n",
              "  'Sao Tome and Principe',\n",
              "  'Solomon Islands',\n",
              "  'South Africa',\n",
              "  'Sudan',\n",
              "  'Suriname',\n",
              "  'Swaziland',\n",
              "  'Syria',\n",
              "  'Timor-Leste',\n",
              "  'Tonga',\n",
              "  'Tunisia',\n",
              "  'Uruguay',\n",
              "  'Vanuatu',\n",
              "  'Zimbabwe'],\n",
              " ['Afghanistan',\n",
              "  'Angola',\n",
              "  'Bangladesh',\n",
              "  'Benin',\n",
              "  'Burkina Faso',\n",
              "  'Burundi',\n",
              "  'Cambodia',\n",
              "  'Cameroon',\n",
              "  'Central African Republic',\n",
              "  'Chad',\n",
              "  'Congo',\n",
              "  \"Cote d'Ivoire\",\n",
              "  'Equatorial Guinea',\n",
              "  'Eritrea',\n",
              "  'Ethiopia',\n",
              "  'Guinea',\n",
              "  'Guinea-Bissau',\n",
              "  'Kenya',\n",
              "  'Liberia',\n",
              "  'Madagascar',\n",
              "  'Malawi',\n",
              "  'Mali',\n",
              "  'Mauritania',\n",
              "  'Mozambique',\n",
              "  'Nepal',\n",
              "  'Niger',\n",
              "  'Nigeria',\n",
              "  'Pakistan',\n",
              "  'Papua New Guinea',\n",
              "  'Rwanda',\n",
              "  'Senegal',\n",
              "  'Sierra Leone',\n",
              "  'Tanzania',\n",
              "  'Togo',\n",
              "  'Uganda',\n",
              "  'Yemen',\n",
              "  'Zambia'],\n",
              " ['China', 'India']]"
            ]
          },
          "metadata": {},
          "execution_count": 770
        }
      ]
    },
    {
      "cell_type": "code",
      "metadata": {
        "colab": {
          "base_uri": "https://localhost:8080/"
        },
        "id": "Dv3hrrf24gZS",
        "outputId": "daba4935-4820-4061-9fc9-bb31e1160c61"
      },
      "source": [
        "education_data = standardized_data[[1, 2, 3, 4, 5, 6, 7, 8, 9, 10, 11, 12, 13, 20, 21, 22, 23]]\n",
        "cluster_vals_ed = kmeans.fit_predict(education_data)\n",
        "cv_sr_ed = pd.Series(cluster_vals_ed)\n",
        "clusters_ed = []\n",
        "for i in range(cluster):\n",
        "    clusters_ed.append(country_data['Country'][cv_sr_ed == i].to_list())\n",
        "clusters_ed"
      ],
      "execution_count": null,
      "outputs": [
        {
          "output_type": "execute_result",
          "data": {
            "text/plain": [
              "[['Antigua and Barbuda',\n",
              "  'Argentina',\n",
              "  'Aruba',\n",
              "  'Bahamas',\n",
              "  'Bolivia',\n",
              "  'Brazil',\n",
              "  'Chile',\n",
              "  'Colombia',\n",
              "  'Costa Rica',\n",
              "  'Dominica',\n",
              "  'Dominican Republic',\n",
              "  'Ecuador',\n",
              "  'Egypt',\n",
              "  'El Salvador',\n",
              "  'Fiji',\n",
              "  'Guatemala',\n",
              "  'Honduras',\n",
              "  'Indonesia',\n",
              "  'Ireland',\n",
              "  'Israel',\n",
              "  'Libya',\n",
              "  'Luxembourg',\n",
              "  'Marshall Islands',\n",
              "  'Mauritius',\n",
              "  'Mexico',\n",
              "  'Netherlands',\n",
              "  'Palau',\n",
              "  'Panama',\n",
              "  'Paraguay',\n",
              "  'Peru',\n",
              "  'Philippines',\n",
              "  'Portugal',\n",
              "  'Tonga',\n",
              "  'Turkey',\n",
              "  'Uruguay',\n",
              "  'Venezuela'],\n",
              " ['Afghanistan',\n",
              "  'Angola',\n",
              "  'Bangladesh',\n",
              "  'Benin',\n",
              "  'Burkina Faso',\n",
              "  'Burundi',\n",
              "  'Cambodia',\n",
              "  'Cameroon',\n",
              "  'Central African Republic',\n",
              "  'Chad',\n",
              "  'Congo',\n",
              "  \"Cote d'Ivoire\",\n",
              "  'Djibouti',\n",
              "  'Equatorial Guinea',\n",
              "  'Eritrea',\n",
              "  'Ethiopia',\n",
              "  'Gabon',\n",
              "  'Guinea',\n",
              "  'Guinea-Bissau',\n",
              "  'India',\n",
              "  'Iraq',\n",
              "  'Kenya',\n",
              "  'Liberia',\n",
              "  'Madagascar',\n",
              "  'Malawi',\n",
              "  'Mali',\n",
              "  'Mauritania',\n",
              "  'Mozambique',\n",
              "  'Niger',\n",
              "  'Nigeria',\n",
              "  'Pakistan',\n",
              "  'Papua New Guinea',\n",
              "  'Rwanda',\n",
              "  'Senegal',\n",
              "  'Sierra Leone',\n",
              "  'Sudan',\n",
              "  'Syria',\n",
              "  'Tanzania',\n",
              "  'Togo',\n",
              "  'Uganda',\n",
              "  'Yemen',\n",
              "  'Zambia'],\n",
              " ['Albania',\n",
              "  'Armenia',\n",
              "  'Austria',\n",
              "  'Azerbaijan',\n",
              "  'Bahrain',\n",
              "  'Barbados',\n",
              "  'Belarus',\n",
              "  'Belgium',\n",
              "  'Bermuda',\n",
              "  'Bosnia and Herzegovina',\n",
              "  'Brunei Darussalam',\n",
              "  'Bulgaria',\n",
              "  'Canada',\n",
              "  'China',\n",
              "  'Croatia',\n",
              "  'Cuba',\n",
              "  'Cyprus',\n",
              "  'Czech Republic',\n",
              "  \"Democratic People's Republic of Korea\",\n",
              "  'Denmark',\n",
              "  'Estonia',\n",
              "  'Finland',\n",
              "  'France',\n",
              "  'Georgia',\n",
              "  'Germany',\n",
              "  'Greece',\n",
              "  'Hong Kong SAR, China',\n",
              "  'Hungary',\n",
              "  'Iceland',\n",
              "  'Iran',\n",
              "  'Italy',\n",
              "  'Japan',\n",
              "  'Jordan',\n",
              "  'Kazakhstan',\n",
              "  'Kuwait',\n",
              "  'Kyrgyz Republic',\n",
              "  'Latvia',\n",
              "  'Lebanon',\n",
              "  'Liechtenstein',\n",
              "  'Lithuania',\n",
              "  'Macao (Macau) SAR, China',\n",
              "  'Macedonia',\n",
              "  'Malaysia',\n",
              "  'Malta',\n",
              "  'Moldova',\n",
              "  'Mongolia',\n",
              "  'New Zealand',\n",
              "  'Norway',\n",
              "  'Oman',\n",
              "  'Poland',\n",
              "  'Qatar',\n",
              "  'Romania',\n",
              "  'Russian Federation',\n",
              "  'San Marino',\n",
              "  'Saudi Arabia',\n",
              "  'Serbia',\n",
              "  'Seychelles',\n",
              "  'Singapore',\n",
              "  'Slovakia',\n",
              "  'Slovenia',\n",
              "  'Spain',\n",
              "  'Sri Lanka',\n",
              "  'Sweden',\n",
              "  'Switzerland',\n",
              "  'Tajikistan',\n",
              "  'Thailand',\n",
              "  'Ukraine',\n",
              "  'United Arab Emirates',\n",
              "  'United Kingdom',\n",
              "  'Uzbekistan',\n",
              "  'Vietnam'],\n",
              " ['Algeria',\n",
              "  'Belize',\n",
              "  'Bhutan',\n",
              "  'Botswana',\n",
              "  'Comoros',\n",
              "  'Gambia',\n",
              "  'Ghana',\n",
              "  'Guyana',\n",
              "  'Jamaica',\n",
              "  'Kiribati',\n",
              "  \"Lao People's Democratic Republic\",\n",
              "  'Lesotho',\n",
              "  'Maldives',\n",
              "  'Morocco',\n",
              "  'Myanmar',\n",
              "  'Namibia',\n",
              "  'Nepal',\n",
              "  'Nicaragua',\n",
              "  'Samoa',\n",
              "  'Sao Tome and Principe',\n",
              "  'Solomon Islands',\n",
              "  'South Africa',\n",
              "  'Suriname',\n",
              "  'Swaziland',\n",
              "  'Timor-Leste',\n",
              "  'Trinidad and Tobago',\n",
              "  'Tunisia',\n",
              "  'Vanuatu',\n",
              "  'Zimbabwe']]"
            ]
          },
          "metadata": {},
          "execution_count": 771
        }
      ]
    },
    {
      "cell_type": "code",
      "metadata": {
        "colab": {
          "base_uri": "https://localhost:8080/"
        },
        "id": "5Pi9CnzM4gZS",
        "outputId": "064a3762-0b27-4dc7-f156-7dcec35fdc5a"
      },
      "source": [
        "economic_data = standardized_data[[0, 14, 15, 16, 17, 18, 19]]\n",
        "cluster_vals_ec = kmeans.fit_predict(economic_data)\n",
        "cv_sr_ec = pd.Series(cluster_vals_ec)\n",
        "clusters_ec = []\n",
        "for i in range(cluster):\n",
        "    clusters_ec.append(country_data['Country'][cv_sr_ec == i].to_list())\n",
        "clusters_ec"
      ],
      "execution_count": null,
      "outputs": [
        {
          "output_type": "execute_result",
          "data": {
            "text/plain": [
              "[['Angola',\n",
              "  'Benin',\n",
              "  'Bolivia',\n",
              "  'Burkina Faso',\n",
              "  'Burundi',\n",
              "  'Cambodia',\n",
              "  'Cameroon',\n",
              "  'Central African Republic',\n",
              "  'Chad',\n",
              "  'Comoros',\n",
              "  'Congo',\n",
              "  \"Cote d'Ivoire\",\n",
              "  'Equatorial Guinea',\n",
              "  'Ethiopia',\n",
              "  'Ghana',\n",
              "  'Guatemala',\n",
              "  'Guinea',\n",
              "  'Guinea-Bissau',\n",
              "  'Kenya',\n",
              "  'Liberia',\n",
              "  'Madagascar',\n",
              "  'Malawi',\n",
              "  'Mali',\n",
              "  'Mozambique',\n",
              "  'Nepal',\n",
              "  'Niger',\n",
              "  'Nigeria',\n",
              "  'Peru',\n",
              "  'Rwanda',\n",
              "  'Sierra Leone',\n",
              "  'Tanzania',\n",
              "  'Togo',\n",
              "  'Uganda',\n",
              "  'Zambia'],\n",
              " ['Afghanistan',\n",
              "  'Albania',\n",
              "  'Algeria',\n",
              "  'Antigua and Barbuda',\n",
              "  'Argentina',\n",
              "  'Armenia',\n",
              "  'Aruba',\n",
              "  'Azerbaijan',\n",
              "  'Bahamas',\n",
              "  'Bahrain',\n",
              "  'Barbados',\n",
              "  'Belarus',\n",
              "  'Belize',\n",
              "  'Bhutan',\n",
              "  'Bosnia and Herzegovina',\n",
              "  'Botswana',\n",
              "  'Brunei Darussalam',\n",
              "  'Bulgaria',\n",
              "  'Chile',\n",
              "  'Colombia',\n",
              "  'Costa Rica',\n",
              "  'Croatia',\n",
              "  'Cuba',\n",
              "  'Cyprus',\n",
              "  'Czech Republic',\n",
              "  'Djibouti',\n",
              "  'Dominica',\n",
              "  'Dominican Republic',\n",
              "  'Ecuador',\n",
              "  'Egypt',\n",
              "  'El Salvador',\n",
              "  'Eritrea',\n",
              "  'Estonia',\n",
              "  'Fiji',\n",
              "  'Gabon',\n",
              "  'Gambia',\n",
              "  'Georgia',\n",
              "  'Greece',\n",
              "  'Guyana',\n",
              "  'Honduras',\n",
              "  'Hungary',\n",
              "  'Iran',\n",
              "  'Iraq',\n",
              "  'Jamaica',\n",
              "  'Jordan',\n",
              "  'Kazakhstan',\n",
              "  'Kiribati',\n",
              "  'Kuwait',\n",
              "  'Kyrgyz Republic',\n",
              "  \"Lao People's Democratic Republic\",\n",
              "  'Latvia',\n",
              "  'Lebanon',\n",
              "  'Lesotho',\n",
              "  'Libya',\n",
              "  'Lithuania',\n",
              "  'Macedonia',\n",
              "  'Malaysia',\n",
              "  'Maldives',\n",
              "  'Malta',\n",
              "  'Marshall Islands',\n",
              "  'Mauritania',\n",
              "  'Mauritius',\n",
              "  'Moldova',\n",
              "  'Mongolia',\n",
              "  'Morocco',\n",
              "  'Myanmar',\n",
              "  'Namibia',\n",
              "  'Nicaragua',\n",
              "  'Oman',\n",
              "  'Palau',\n",
              "  'Panama',\n",
              "  'Papua New Guinea',\n",
              "  'Paraguay',\n",
              "  'Portugal',\n",
              "  'Romania',\n",
              "  'Samoa',\n",
              "  'San Marino',\n",
              "  'Sao Tome and Principe',\n",
              "  'Saudi Arabia',\n",
              "  'Senegal',\n",
              "  'Serbia',\n",
              "  'Seychelles',\n",
              "  'Slovakia',\n",
              "  'Slovenia',\n",
              "  'Solomon Islands',\n",
              "  'South Africa',\n",
              "  'Spain',\n",
              "  'Sri Lanka',\n",
              "  'Sudan',\n",
              "  'Suriname',\n",
              "  'Swaziland',\n",
              "  'Syria',\n",
              "  'Tajikistan',\n",
              "  'Timor-Leste',\n",
              "  'Tonga',\n",
              "  'Trinidad and Tobago',\n",
              "  'Tunisia',\n",
              "  'Turkey',\n",
              "  'Ukraine',\n",
              "  'Uruguay',\n",
              "  'Uzbekistan',\n",
              "  'Vanuatu',\n",
              "  'Venezuela',\n",
              "  'Vietnam',\n",
              "  'Yemen',\n",
              "  'Zimbabwe'],\n",
              " ['Austria',\n",
              "  'Bangladesh',\n",
              "  'Belgium',\n",
              "  'Bermuda',\n",
              "  'Brazil',\n",
              "  'Canada',\n",
              "  \"Democratic People's Republic of Korea\",\n",
              "  'Denmark',\n",
              "  'Finland',\n",
              "  'France',\n",
              "  'Germany',\n",
              "  'Hong Kong SAR, China',\n",
              "  'Iceland',\n",
              "  'Indonesia',\n",
              "  'Ireland',\n",
              "  'Israel',\n",
              "  'Italy',\n",
              "  'Japan',\n",
              "  'Liechtenstein',\n",
              "  'Luxembourg',\n",
              "  'Macao (Macau) SAR, China',\n",
              "  'Mexico',\n",
              "  'Netherlands',\n",
              "  'New Zealand',\n",
              "  'Norway',\n",
              "  'Pakistan',\n",
              "  'Philippines',\n",
              "  'Poland',\n",
              "  'Qatar',\n",
              "  'Russian Federation',\n",
              "  'Singapore',\n",
              "  'Sweden',\n",
              "  'Switzerland',\n",
              "  'Thailand',\n",
              "  'United Arab Emirates',\n",
              "  'United Kingdom'],\n",
              " ['China', 'India']]"
            ]
          },
          "metadata": {},
          "execution_count": 772
        }
      ]
    },
    {
      "cell_type": "code",
      "metadata": {
        "id": "kYHPl9EF4gZT"
      },
      "source": [
        "import collections\n",
        "\n",
        "ed_ec_combined = collections.defaultdict(list)\n",
        "\n",
        "for i in range(cluster):\n",
        "  ed_ec_combined[i] = collections.defaultdict(list)\n",
        "\n",
        "for i in range(178):\n",
        "  country = country_data['Country'][i]\n",
        "  ed_ec_combined[cv_sr_ed[i]][cv_sr_ec[i]].append(country)"
      ],
      "execution_count": null,
      "outputs": []
    },
    {
      "cell_type": "code",
      "metadata": {
        "colab": {
          "base_uri": "https://localhost:8080/"
        },
        "id": "P_999SEv4dhm",
        "outputId": "c20af508-7e81-49d2-fa7a-20e641c1b212"
      },
      "source": [
        "ed_ec_combined"
      ],
      "execution_count": null,
      "outputs": [
        {
          "output_type": "execute_result",
          "data": {
            "text/plain": [
              "defaultdict(list,\n",
              "            {0: defaultdict(list,\n",
              "                         {0: ['Bolivia', 'Guatemala', 'Peru'],\n",
              "                          1: ['Antigua and Barbuda',\n",
              "                           'Argentina',\n",
              "                           'Aruba',\n",
              "                           'Bahamas',\n",
              "                           'Chile',\n",
              "                           'Colombia',\n",
              "                           'Costa Rica',\n",
              "                           'Dominica',\n",
              "                           'Dominican Republic',\n",
              "                           'Ecuador',\n",
              "                           'Egypt',\n",
              "                           'El Salvador',\n",
              "                           'Fiji',\n",
              "                           'Honduras',\n",
              "                           'Libya',\n",
              "                           'Marshall Islands',\n",
              "                           'Mauritius',\n",
              "                           'Palau',\n",
              "                           'Panama',\n",
              "                           'Paraguay',\n",
              "                           'Portugal',\n",
              "                           'Tonga',\n",
              "                           'Turkey',\n",
              "                           'Uruguay',\n",
              "                           'Venezuela'],\n",
              "                          2: ['Brazil',\n",
              "                           'Indonesia',\n",
              "                           'Ireland',\n",
              "                           'Israel',\n",
              "                           'Luxembourg',\n",
              "                           'Mexico',\n",
              "                           'Netherlands',\n",
              "                           'Philippines']}),\n",
              "             1: defaultdict(list,\n",
              "                         {0: ['Angola',\n",
              "                           'Benin',\n",
              "                           'Burkina Faso',\n",
              "                           'Burundi',\n",
              "                           'Cambodia',\n",
              "                           'Cameroon',\n",
              "                           'Central African Republic',\n",
              "                           'Chad',\n",
              "                           'Congo',\n",
              "                           \"Cote d'Ivoire\",\n",
              "                           'Equatorial Guinea',\n",
              "                           'Ethiopia',\n",
              "                           'Guinea',\n",
              "                           'Guinea-Bissau',\n",
              "                           'Kenya',\n",
              "                           'Liberia',\n",
              "                           'Madagascar',\n",
              "                           'Malawi',\n",
              "                           'Mali',\n",
              "                           'Mozambique',\n",
              "                           'Niger',\n",
              "                           'Nigeria',\n",
              "                           'Rwanda',\n",
              "                           'Sierra Leone',\n",
              "                           'Tanzania',\n",
              "                           'Togo',\n",
              "                           'Uganda',\n",
              "                           'Zambia'],\n",
              "                          1: ['Afghanistan',\n",
              "                           'Djibouti',\n",
              "                           'Eritrea',\n",
              "                           'Gabon',\n",
              "                           'Iraq',\n",
              "                           'Mauritania',\n",
              "                           'Papua New Guinea',\n",
              "                           'Senegal',\n",
              "                           'Sudan',\n",
              "                           'Syria',\n",
              "                           'Yemen'],\n",
              "                          2: ['Bangladesh', 'Pakistan'],\n",
              "                          3: ['India']}),\n",
              "             2: defaultdict(list,\n",
              "                         {1: ['Albania',\n",
              "                           'Armenia',\n",
              "                           'Azerbaijan',\n",
              "                           'Bahrain',\n",
              "                           'Barbados',\n",
              "                           'Belarus',\n",
              "                           'Bosnia and Herzegovina',\n",
              "                           'Brunei Darussalam',\n",
              "                           'Bulgaria',\n",
              "                           'Croatia',\n",
              "                           'Cuba',\n",
              "                           'Cyprus',\n",
              "                           'Czech Republic',\n",
              "                           'Estonia',\n",
              "                           'Georgia',\n",
              "                           'Greece',\n",
              "                           'Hungary',\n",
              "                           'Iran',\n",
              "                           'Jordan',\n",
              "                           'Kazakhstan',\n",
              "                           'Kuwait',\n",
              "                           'Kyrgyz Republic',\n",
              "                           'Latvia',\n",
              "                           'Lebanon',\n",
              "                           'Lithuania',\n",
              "                           'Macedonia',\n",
              "                           'Malaysia',\n",
              "                           'Malta',\n",
              "                           'Moldova',\n",
              "                           'Mongolia',\n",
              "                           'Oman',\n",
              "                           'Romania',\n",
              "                           'San Marino',\n",
              "                           'Saudi Arabia',\n",
              "                           'Serbia',\n",
              "                           'Seychelles',\n",
              "                           'Slovakia',\n",
              "                           'Slovenia',\n",
              "                           'Spain',\n",
              "                           'Sri Lanka',\n",
              "                           'Tajikistan',\n",
              "                           'Ukraine',\n",
              "                           'Uzbekistan',\n",
              "                           'Vietnam'],\n",
              "                          2: ['Austria',\n",
              "                           'Belgium',\n",
              "                           'Bermuda',\n",
              "                           'Canada',\n",
              "                           \"Democratic People's Republic of Korea\",\n",
              "                           'Denmark',\n",
              "                           'Finland',\n",
              "                           'France',\n",
              "                           'Germany',\n",
              "                           'Hong Kong SAR, China',\n",
              "                           'Iceland',\n",
              "                           'Italy',\n",
              "                           'Japan',\n",
              "                           'Liechtenstein',\n",
              "                           'Macao (Macau) SAR, China',\n",
              "                           'New Zealand',\n",
              "                           'Norway',\n",
              "                           'Poland',\n",
              "                           'Qatar',\n",
              "                           'Russian Federation',\n",
              "                           'Singapore',\n",
              "                           'Sweden',\n",
              "                           'Switzerland',\n",
              "                           'Thailand',\n",
              "                           'United Arab Emirates',\n",
              "                           'United Kingdom'],\n",
              "                          3: ['China']}),\n",
              "             3: defaultdict(list,\n",
              "                         {0: ['Comoros', 'Ghana', 'Nepal'],\n",
              "                          1: ['Algeria',\n",
              "                           'Belize',\n",
              "                           'Bhutan',\n",
              "                           'Botswana',\n",
              "                           'Gambia',\n",
              "                           'Guyana',\n",
              "                           'Jamaica',\n",
              "                           'Kiribati',\n",
              "                           \"Lao People's Democratic Republic\",\n",
              "                           'Lesotho',\n",
              "                           'Maldives',\n",
              "                           'Morocco',\n",
              "                           'Myanmar',\n",
              "                           'Namibia',\n",
              "                           'Nicaragua',\n",
              "                           'Samoa',\n",
              "                           'Sao Tome and Principe',\n",
              "                           'Solomon Islands',\n",
              "                           'South Africa',\n",
              "                           'Suriname',\n",
              "                           'Swaziland',\n",
              "                           'Timor-Leste',\n",
              "                           'Trinidad and Tobago',\n",
              "                           'Tunisia',\n",
              "                           'Vanuatu',\n",
              "                           'Zimbabwe']})})"
            ]
          },
          "metadata": {},
          "execution_count": 774
        }
      ]
    },
    {
      "cell_type": "code",
      "metadata": {
        "colab": {
          "base_uri": "https://localhost:8080/",
          "height": 496
        },
        "id": "WN8PHvRf-0FA",
        "outputId": "9ae2c019-e29b-45d0-fae7-9c1913244074"
      },
      "source": [
        "from sklearn.metrics import confusion_matrix\n",
        "cm = confusion_matrix(cv_sr_ec, cv_sr_ed)\n",
        "print(cm)\n",
        "\n",
        "from mlxtend.plotting import plot_confusion_matrix\n",
        " \n",
        "fig, ax = plot_confusion_matrix(conf_mat=cm, figsize=(6, 6), cmap=plt.cm.Blues)\n",
        "plt.xlabel('Economic Clusters', fontsize=16)\n",
        "plt.ylabel('Education Clusters', fontsize=16)\n",
        "plt.title('Confusion Matrix', fontsize=16)\n",
        "plt.show()"
      ],
      "execution_count": null,
      "outputs": [
        {
          "output_type": "stream",
          "name": "stdout",
          "text": [
            "[[ 3 28  0  3]\n",
            " [25 11 44 26]\n",
            " [ 8  2 26  0]\n",
            " [ 0  1  1  0]]\n"
          ]
        },
        {
          "output_type": "display_data",
          "data": {
            "image/png": "[encoded data removed]",
            "text/plain": [
              "<Figure size 432x432 with 1 Axes>"
            ]
          },
          "metadata": {
            "needs_background": "light"
          }
        }
      ]
    },
    {
      "cell_type": "code",
      "metadata": {
        "colab": {
          "base_uri": "https://localhost:8080/"
        },
        "id": "k70MHlxRH76q",
        "outputId": "a68fbdf9-3e55-4a79-ebc6-ac5effd73daa"
      },
      "source": [
        "df = country_data[country_data['Country'] == ed_ec_combined[2][2][0]]\n",
        "\n",
        "for entry in ed_ec_combined[2][2]:\n",
        "  print(entry)\n",
        "  df = df.append(country_data[country_data['Country'] == entry])"
      ],
      "execution_count": null,
      "outputs": [
        {
          "output_type": "stream",
          "name": "stdout",
          "text": [
            "Austria\n",
            "Belgium\n",
            "Bermuda\n",
            "Canada\n",
            "Democratic People's Republic of Korea\n",
            "Denmark\n",
            "Finland\n",
            "France\n",
            "Germany\n",
            "Hong Kong SAR, China\n",
            "Iceland\n",
            "Italy\n",
            "Japan\n",
            "Liechtenstein\n",
            "Macao (Macau) SAR, China\n",
            "New Zealand\n",
            "Norway\n",
            "Poland\n",
            "Qatar\n",
            "Russian Federation\n",
            "Singapore\n",
            "Sweden\n",
            "Switzerland\n",
            "Thailand\n",
            "United Arab Emirates\n",
            "United Kingdom\n"
          ]
        }
      ]
    },
    {
      "cell_type": "code",
      "metadata": {
        "id": "tFodBr_-IoQI"
      },
      "source": [
        "index = [8, 15, 18, 30, 44, 45, 57, 58, 62, 70, 72, 79, 81, 94, 97, 117, 121, 130, 132, 134, 144, 154, 155, 159, 168, 169]\n",
        "\n"
      ],
      "execution_count": 28,
      "outputs": []
    },
    {
      "cell_type": "code",
      "metadata": {
        "id": "USF7KBXTNshH"
      },
      "source": [
        "df = pd.DataFrame(columns=imputed_data.columns)\n",
        "\n",
        "for i in index:\n",
        "  df.loc[len(df.index)] = imputed_data.loc[i]"
      ],
      "execution_count": 29,
      "outputs": []
    },
    {
      "cell_type": "code",
      "source": [
        "import csv\n",
        "\n",
        "table = []\n",
        "sig_table = []\n",
        "\n",
        "with open(\"all_feature_comparison.csv\", \"w\", newline='') as f:\n",
        "  with open(\"best_feature_comparison.csv\", \"w\", newline='') as g:\n",
        "    w1 = csv.writer(f)\n",
        "    w2 = csv.writer(g)\n",
        "    table.append(['', 'Mean of Best Cluster', 'Mean of All Countries', 'Difference (%)'])\n",
        "    sig_table.append(['', 'Mean of Best Cluster', 'Mean of All Countries', 'Difference (%)'])\n",
        "    for i in range(24):\n",
        "      diff = abs((imputed_data[i].mean() - df[i].mean()) / df[i].mean()) * 100\n",
        "      row = [useful_data.columns[i], df[i].mean(), imputed_data[i].mean(), diff]\n",
        "      table.append(row)\n",
        "      if diff > 45:\n",
        "        sig_table.append(row)\n",
        "    w2.writerows(sig_table)\n",
        "\n",
        "  w1.writerows(table)"
      ],
      "metadata": {
        "id": "QBaWJsQFectL"
      },
      "execution_count": 58,
      "outputs": []
    },
    {
      "cell_type": "code",
      "source": [
        "from tabulate import tabulate\n",
        "\n",
        "print(tabulate(table, headers='firstrow', tablefmt='fancy_grid', numalign=\"right\"))\n",
        "table.to_csv('all_feature_comparison.csv')"
      ],
      "metadata": {
        "colab": {
          "base_uri": "https://localhost:8080/",
          "height": 1000
        },
        "id": "ANqFABrcyiuV",
        "outputId": "f9837f03-2475-43f8-c5b2-6e6d7c6fbf7f"
      },
      "execution_count": 49,
      "outputs": [
        {
          "output_type": "stream",
          "name": "stdout",
          "text": [
            "╒════════════════════════════════════════╤════════════════════════╤═════════════════════════╤══════════════════╕\n",
            "│                                        │   Mean of Best Cluster │   Mean of All Countries │   Difference (%) │\n",
            "╞════════════════════════════════════════╪════════════════════════╪═════════════════════════╪══════════════════╡\n",
            "│ Population (thousands)                 │                31278.3 │                   37091 │          18.5837 │\n",
            "├────────────────────────────────────────┼────────────────────────┼─────────────────────────┼──────────────────┤\n",
            "│ Compulsory attendance amount           │                10.4231 │                 9.91011 │          4.92143 │\n",
            "├────────────────────────────────────────┼────────────────────────┼─────────────────────────┼──────────────────┤\n",
            "│ Early education attendance rate        │                26.4231 │                 24.2809 │          8.10722 │\n",
            "├────────────────────────────────────────┼────────────────────────┼─────────────────────────┼──────────────────┤\n",
            "│ Male literacy rate                     │                90.5327 │                 85.1264 │          5.97164 │\n",
            "├────────────────────────────────────────┼────────────────────────┼─────────────────────────┼──────────────────┤\n",
            "│ Female literacy rate                   │                85.2558 │                 76.8854 │          9.81796 │\n",
            "├────────────────────────────────────────┼────────────────────────┼─────────────────────────┼──────────────────┤\n",
            "│ Primary completion rate                │                98.8494 │                 90.1776 │          8.77277 │\n",
            "├────────────────────────────────────────┼────────────────────────┼─────────────────────────┼──────────────────┤\n",
            "│ Primary to secondary transition rate   │                97.4783 │                 86.8344 │          10.9193 │\n",
            "├────────────────────────────────────────┼────────────────────────┼─────────────────────────┼──────────────────┤\n",
            "│ Primary drop out rate                  │                5.58258 │                 17.5062 │          213.587 │\n",
            "├────────────────────────────────────────┼────────────────────────┼─────────────────────────┼──────────────────┤\n",
            "│ Primary repeaters rate                 │                1.05147 │                 5.03141 │          378.511 │\n",
            "├────────────────────────────────────────┼────────────────────────┼─────────────────────────┼──────────────────┤\n",
            "│ School life expectancy                 │                5.80694 │                 6.02793 │          3.80558 │\n",
            "├────────────────────────────────────────┼────────────────────────┼─────────────────────────┼──────────────────┤\n",
            "│ Lower secondary teacher-student ratio  │                12.2546 │                 18.1591 │          48.1815 │\n",
            "├────────────────────────────────────────┼────────────────────────┼─────────────────────────┼──────────────────┤\n",
            "│ Primary teacher-student ratio          │                13.4136 │                 23.9368 │          78.4523 │\n",
            "├────────────────────────────────────────┼────────────────────────┼─────────────────────────┼──────────────────┤\n",
            "│ Upper secondary teacher-student ratio  │                12.6828 │                 15.5836 │          22.8717 │\n",
            "├────────────────────────────────────────┼────────────────────────┼─────────────────────────┼──────────────────┤\n",
            "│ Education spending (percentage of GDP) │                4.80222 │                 4.44909 │          7.35349 │\n",
            "├────────────────────────────────────────┼────────────────────────┼─────────────────────────┼──────────────────┤\n",
            "│ Unemployment rate                      │                5.40962 │                 7.49326 │          38.5174 │\n",
            "├────────────────────────────────────────┼────────────────────────┼─────────────────────────┼──────────────────┤\n",
            "│ Child labor percentage                 │                11.8462 │                  14.073 │          18.7983 │\n",
            "├────────────────────────────────────────┼────────────────────────┼─────────────────────────┼──────────────────┤\n",
            "│ Average Income GNI                     │                51801.5 │                 14579.7 │          71.8548 │\n",
            "├────────────────────────────────────────┼────────────────────────┼─────────────────────────┼──────────────────┤\n",
            "│ GDP (USD)                              │            1.02633e+12 │              3.4629e+11 │          66.2593 │\n",
            "├────────────────────────────────────────┼────────────────────────┼─────────────────────────┼──────────────────┤\n",
            "│ Labor force count                      │            1.61885e+07 │              8.1782e+06 │          49.4815 │\n",
            "├────────────────────────────────────────┼────────────────────────┼─────────────────────────┼──────────────────┤\n",
            "│ Three year average unnourished count   │                2.31538 │                 4.09719 │          76.9551 │\n",
            "├────────────────────────────────────────┼────────────────────────┼─────────────────────────┼──────────────────┤\n",
            "│ Primary enrollment rate                │                72.4585 │                 103.915 │          43.4137 │\n",
            "├────────────────────────────────────────┼────────────────────────┼─────────────────────────┼──────────────────┤\n",
            "│ Secondary enrollment rate              │                79.9229 │                 73.7517 │          7.72143 │\n",
            "├────────────────────────────────────────┼────────────────────────┼─────────────────────────┼──────────────────┤\n",
            "│ Tertiary enrollment rate               │                36.0858 │                 20.3322 │          43.6558 │\n",
            "├────────────────────────────────────────┼────────────────────────┼─────────────────────────┼──────────────────┤\n",
            "│ Lower secondary repeaters rate         │               0.735189 │                 2.85691 │          288.595 │\n",
            "╘════════════════════════════════════════╧════════════════════════╧═════════════════════════╧══════════════════╛\n"
          ]
        },
        {
          "output_type": "error",
          "ename": "AttributeError",
          "evalue": "ignored",
          "traceback": [
            "\u001b[0;31m---------------------------------------------------------------------------\u001b[0m",
            "\u001b[0;31mAttributeError\u001b[0m                            Traceback (most recent call last)",
            "\u001b[0;32m<ipython-input-49-effcf88bda82>\u001b[0m in \u001b[0;36m<module>\u001b[0;34m()\u001b[0m\n\u001b[1;32m      3\u001b[0m \u001b[0mall_feature\u001b[0m \u001b[0;34m=\u001b[0m \u001b[0mtabulate\u001b[0m\u001b[0;34m(\u001b[0m\u001b[0mtable\u001b[0m\u001b[0;34m,\u001b[0m \u001b[0mheaders\u001b[0m\u001b[0;34m=\u001b[0m\u001b[0;34m'firstrow'\u001b[0m\u001b[0;34m,\u001b[0m \u001b[0mtablefmt\u001b[0m\u001b[0;34m=\u001b[0m\u001b[0;34m'fancy_grid'\u001b[0m\u001b[0;34m,\u001b[0m \u001b[0mnumalign\u001b[0m\u001b[0;34m=\u001b[0m\u001b[0;34m\"right\"\u001b[0m\u001b[0;34m)\u001b[0m\u001b[0;34m\u001b[0m\u001b[0;34m\u001b[0m\u001b[0m\n\u001b[1;32m      4\u001b[0m \u001b[0mprint\u001b[0m\u001b[0;34m(\u001b[0m\u001b[0mall_feature\u001b[0m\u001b[0;34m)\u001b[0m\u001b[0;34m\u001b[0m\u001b[0;34m\u001b[0m\u001b[0m\n\u001b[0;32m----> 5\u001b[0;31m \u001b[0mall_feature\u001b[0m\u001b[0;34m.\u001b[0m\u001b[0mto_csv\u001b[0m\u001b[0;34m(\u001b[0m\u001b[0;34m'all_feature_comparison.csv'\u001b[0m\u001b[0;34m)\u001b[0m\u001b[0;34m\u001b[0m\u001b[0;34m\u001b[0m\u001b[0m\n\u001b[0m",
            "\u001b[0;31mAttributeError\u001b[0m: 'str' object has no attribute 'to_csv'"
          ]
        }
      ]
    },
    {
      "cell_type": "code",
      "source": [
        "print(tabulate(sig_table, headers='firstrow', tablefmt='fancy_grid', numalign=\"right\"))"
      ],
      "metadata": {
        "colab": {
          "base_uri": "https://localhost:8080/"
        },
        "id": "GVOLXFwv_aND",
        "outputId": "fd7b7205-5c9e-4411-a12d-8fab6e4729c7"
      },
      "execution_count": 47,
      "outputs": [
        {
          "output_type": "stream",
          "name": "stdout",
          "text": [
            "╒═══════════════════════════════════════╤════════════════════════╤═════════════════════════╤══════════════════╕\n",
            "│                                       │   Mean of Best Cluster │   Mean of All Countries │   Difference (%) │\n",
            "╞═══════════════════════════════════════╪════════════════════════╪═════════════════════════╪══════════════════╡\n",
            "│ Primary drop out rate                 │                5.58258 │                 17.5062 │          213.587 │\n",
            "├───────────────────────────────────────┼────────────────────────┼─────────────────────────┼──────────────────┤\n",
            "│ Primary repeaters rate                │                1.05147 │                 5.03141 │          378.511 │\n",
            "├───────────────────────────────────────┼────────────────────────┼─────────────────────────┼──────────────────┤\n",
            "│ Lower secondary teacher-student ratio │                12.2546 │                 18.1591 │          48.1815 │\n",
            "├───────────────────────────────────────┼────────────────────────┼─────────────────────────┼──────────────────┤\n",
            "│ Primary teacher-student ratio         │                13.4136 │                 23.9368 │          78.4523 │\n",
            "├───────────────────────────────────────┼────────────────────────┼─────────────────────────┼──────────────────┤\n",
            "│ Average Income GNI                    │                51801.5 │                 14579.7 │          71.8548 │\n",
            "├───────────────────────────────────────┼────────────────────────┼─────────────────────────┼──────────────────┤\n",
            "│ GDP (USD)                             │            1.02633e+12 │              3.4629e+11 │          66.2593 │\n",
            "├───────────────────────────────────────┼────────────────────────┼─────────────────────────┼──────────────────┤\n",
            "│ Labor force count                     │            1.61885e+07 │              8.1782e+06 │          49.4815 │\n",
            "├───────────────────────────────────────┼────────────────────────┼─────────────────────────┼──────────────────┤\n",
            "│ Three year average unnourished count  │                2.31538 │                 4.09719 │          76.9551 │\n",
            "├───────────────────────────────────────┼────────────────────────┼─────────────────────────┼──────────────────┤\n",
            "│ Lower secondary repeaters rate        │               0.735189 │                 2.85691 │          288.595 │\n",
            "╘═══════════════════════════════════════╧════════════════════════╧═════════════════════════╧══════════════════╛\n"
          ]
        }
      ]
    }
  ]
}
{
 "cells": [
  {
   "cell_type": "code",
   "execution_count": 10,
   "metadata": {
    "collapsed": true
   },
   "outputs": [],
   "source": [
    "import pandas as pd\n",
    "import numpy as np"
   ]
  },
  {
   "cell_type": "code",
   "execution_count": 2,
   "metadata": {},
   "outputs": [],
   "source": [
    "country_data = pd.read_csv(\"data/synthesized_data.csv\")"
   ]
  },
  {
   "cell_type": "code",
   "execution_count": 5,
   "metadata": {},
   "outputs": [
    {
     "data": {
      "text/plain": [
       "(178, 28)"
      ]
     },
     "execution_count": 5,
     "metadata": {},
     "output_type": "execute_result"
    }
   ],
   "source": [
    "country_data.shape"
   ]
  },
  {
   "cell_type": "code",
   "execution_count": 6,
   "metadata": {},
   "outputs": [
    {
     "data": {
      "text/plain": [
       "Country                                     0\nPopulation (thousands)                      5\nCompulsory attendance amount               12\nEarly education attendance rate           127\nPrimary enrollment                          3\nSecondary enrollment                        4\nTertiary enrollment                        18\nMale literacy rate                         50\nFemale literacy rate                       50\nPrimary completion rate                     3\nPrimary to secondary transition rate        6\nPrimary drop out rate                       6\nLower secondary repeaters count             3\nPrimary repeaters count                     0\nPrimary repeaters rate                      0\nSchool life expectancy                      1\nLower secondary teacher-student ratio      25\nPrimary teacher-student ratio               0\nUpper secondary teacher-student ratio      28\nEducation spending (percentage of GDP)      4\nUnemployment rate                          12\nChild labor percentage                     81\nAverage income                             94\nAverage income currency                    94\nAverage Income GNI                          3\nGDP (USD)                                   2\nLabor force count                          84\nThree year average unnourished count       84\ndtype: int64"
      ]
     },
     "execution_count": 6,
     "metadata": {},
     "output_type": "execute_result"
    }
   ],
   "source": [
    "country_data.isnull().sum()"
   ]
  },
  {
   "cell_type": "code",
   "execution_count": 12,
   "metadata": {},
   "outputs": [],
   "source": [
    "country_data['Primary enrollment rate'] = country_data['Primary enrollment'] / country_data['Population (thousands)']\n",
    "country_data['Secondary enrollment rate'] = country_data['Secondary enrollment'] / country_data['Population (thousands)']\n",
    "country_data['Tertiary enrollment rate'] = country_data['Tertiary enrollment'] / country_data['Population (thousands)']\n",
    "country_data['Lower secondary repeaters rate'] = country_data['Lower secondary repeaters count'] / country_data['Population (thousands)']\n",
    "useful_data = country_data.loc[:, ~country_data.columns.isin(['Country', 'Primary enrollment', 'Secondary enrollment', 'Tertiary enrollment', 'Lower secondary repeaters count', 'Primary repeaters count', 'Average income', 'Average income currency'])]"
   ]
  },
  {
   "cell_type": "code",
   "execution_count": 13,
   "metadata": {},
   "outputs": [
    {
     "data": {
      "text/plain": [
       "Population (thousands)                      5\nCompulsory attendance amount               12\nEarly education attendance rate           127\nMale literacy rate                         50\nFemale literacy rate                       50\nPrimary completion rate                     3\nPrimary to secondary transition rate        6\nPrimary drop out rate                       6\nPrimary repeaters rate                      0\nSchool life expectancy                      1\nLower secondary teacher-student ratio      25\nPrimary teacher-student ratio               0\nUpper secondary teacher-student ratio      28\nEducation spending (percentage of GDP)      4\nUnemployment rate                          12\nChild labor percentage                     81\nAverage Income GNI                          3\nGDP (USD)                                   2\nLabor force count                          84\nThree year average unnourished count       84\nPrimary enrollment rate                     8\nSecondary enrollment rate                   9\nTertiary enrollment rate                   23\nLower secondary repeaters rate              8\ndtype: int64"
      ]
     },
     "execution_count": 13,
     "metadata": {},
     "output_type": "execute_result"
    }
   ],
   "source": [
    "useful_data.isnull().sum()"
   ]
  },
  {
   "cell_type": "code",
   "execution_count": 20,
   "metadata": {},
   "outputs": [],
   "source": [
    "from sklearn.impute import SimpleImputer\n",
    "\n",
    "imputer = SimpleImputer(missing_values=np.nan, strategy='median')\n",
    "imputed_data = pd.DataFrame(imputer.fit_transform(useful_data))\n",
    "standardized_data = (imputed_data-imputed_data.mean())/imputed_data.std()"
   ]
  },
  {
   "cell_type": "code",
   "execution_count": 22,
   "metadata": {},
   "outputs": [],
   "source": [
    "from sklearn.decomposition import PCA\n",
    "pca_countries = PCA(n_components=2)\n",
    "principalComponents_countries = pca_countries.fit_transform(standardized_data)"
   ]
  },
  {
   "cell_type": "code",
   "execution_count": 27,
   "metadata": {},
   "outputs": [
    {
     "data": {
      "text/plain": [
       "<matplotlib.collections.PathCollection at 0x2581373b630>"
      ]
     },
     "execution_count": 27,
     "metadata": {},
     "output_type": "execute_result"
    },
    {
     "data": {
      "image/png": "[encoded data removed]",
      "text/plain": [
       "<Figure size 432x288 with 1 Axes>"
      ]
     },
     "metadata": {},
     "output_type": "display_data"
    }
   ],
   "source": [
    "import matplotlib.pyplot as plt\n",
    "%matplotlib inline\n",
    "\n",
    "plt.scatter(principalComponents_countries[:, 0], principalComponents_countries[:, 1])"
   ]
  },
  {
   "cell_type": "code",
   "execution_count": 49,
   "metadata": {},
   "outputs": [],
   "source": [
    "from sklearn.cluster import KMeans\n",
    "\n",
    "kmeans = KMeans(n_clusters=15)\n",
    "cluster_vals = kmeans.fit_predict(standardized_data)"
   ]
  },
  {
   "cell_type": "code",
   "execution_count": 53,
   "metadata": {},
   "outputs": [
    {
     "data": {
      "text/plain": [
       "<matplotlib.collections.PathCollection at 0x25813d33d30>"
      ]
     },
     "execution_count": 53,
     "metadata": {},
     "output_type": "execute_result"
    },
    {
     "data": {
      "image/png": "[encoded data removed]",
      "text/plain": [
       "<Figure size 432x288 with 1 Axes>"
      ]
     },
     "metadata": {},
     "output_type": "display_data"
    }
   ],
   "source": [
    "plt.scatter(principalComponents_countries[cluster_vals ==0,0], principalComponents_countries[cluster_vals == 0,1], s=100, c='red')\n",
    "plt.scatter(principalComponents_countries[cluster_vals ==1,0], principalComponents_countries[cluster_vals == 1,1], s=100, c='black')\n",
    "plt.scatter(principalComponents_countries[cluster_vals ==2,0], principalComponents_countries[cluster_vals == 2,1], s=100, c='blue')\n",
    "plt.scatter(principalComponents_countries[cluster_vals ==3,0], principalComponents_countries[cluster_vals == 3,1], s=100, c='green')\n",
    "plt.scatter(principalComponents_countries[cluster_vals ==4,0], principalComponents_countries[cluster_vals == 4,1], s=100, c='cyan')\n",
    "plt.scatter(principalComponents_countries[cluster_vals ==5,0], principalComponents_countries[cluster_vals == 5,1], s=100, c='purple')\n",
    "plt.scatter(principalComponents_countries[cluster_vals ==6,0], principalComponents_countries[cluster_vals == 6,1], s=100, c='orange')\n",
    "plt.scatter(principalComponents_countries[cluster_vals ==7,0], principalComponents_countries[cluster_vals == 7,1], s=100, c='yellow')\n",
    "plt.scatter(principalComponents_countries[cluster_vals ==8,0], principalComponents_countries[cluster_vals == 8,1], s=100, c='grey')\n",
    "plt.scatter(principalComponents_countries[cluster_vals ==9,0], principalComponents_countries[cluster_vals == 9,1], s=100, c='brown')\n",
    "plt.scatter(principalComponents_countries[cluster_vals ==10,0], principalComponents_countries[cluster_vals == 10,1], s=100, c='magenta')\n",
    "plt.scatter(principalComponents_countries[cluster_vals ==11,0], principalComponents_countries[cluster_vals == 11,1], s=100, c='lime')\n",
    "plt.scatter(principalComponents_countries[cluster_vals ==12,0], principalComponents_countries[cluster_vals == 12,1], s=100, c='pink')\n",
    "plt.scatter(principalComponents_countries[cluster_vals ==13,0], principalComponents_countries[cluster_vals == 13,1], s=100, c='maroon')\n",
    "plt.scatter(principalComponents_countries[cluster_vals ==14,0], principalComponents_countries[cluster_vals == 14,1], s=100, c='azure')"
   ]
  },
  {
   "cell_type": "code",
   "execution_count": 65,
   "metadata": {},
   "outputs": [],
   "source": [
    "cv_sr = pd.Series(cluster_vals)\n",
    "clusters = []\n",
    "for i in range(15):\n",
    "    clusters.append(country_data['Country'][cv_sr == i].to_list())"
   ]
  },
  {
   "cell_type": "code",
   "execution_count": 67,
   "metadata": {},
   "outputs": [
    {
     "data": {
      "text/plain": [
       "[['Brazil',\n  'France',\n  'Germany',\n  'Italy',\n  'Japan',\n  'Mexico',\n  'Russian Federation',\n  'Spain',\n  'United Kingdom'],\n ['Afghanistan',\n  'Burkina Faso',\n  'Burundi',\n  'Chad',\n  \"Cote d'Ivoire\",\n  'Ethiopia',\n  'Guinea',\n  'Mali',\n  'Mauritania',\n  'Mozambique',\n  'Niger',\n  'Senegal'],\n ['Belarus',\n  'Jamaica',\n  'Lebanon',\n  'Mongolia',\n  'Thailand',\n  'Trinidad and Tobago',\n  'Ukraine',\n  'Vietnam'],\n ['Djibouti',\n  'Equatorial Guinea',\n  'Eritrea',\n  'Gambia',\n  'Kenya',\n  'Myanmar',\n  'Nigeria',\n  'Sudan',\n  'Syria'],\n ['Antigua and Barbuda',\n  'Argentina',\n  'Aruba',\n  'Bahamas',\n  'Bolivia',\n  'Chile',\n  'Colombia',\n  'Costa Rica',\n  'Dominica',\n  'Dominican Republic',\n  'Ecuador',\n  'Egypt',\n  'El Salvador',\n  'Fiji',\n  'Guatemala',\n  'Honduras',\n  'Mauritius',\n  'Palau',\n  'Panama',\n  'Paraguay',\n  'Peru',\n  'Philippines',\n  'Portugal',\n  'Tonga',\n  'Turkey',\n  'Uruguay',\n  'Venezuela'],\n ['Algeria',\n  'Belize',\n  'Bhutan',\n  'Botswana',\n  'Guyana',\n  'Kiribati',\n  'Maldives',\n  'Marshall Islands',\n  'Morocco',\n  'Samoa',\n  'Solomon Islands',\n  'Suriname',\n  'Swaziland',\n  'Timor-Leste',\n  'Tunisia',\n  'Vanuatu',\n  'Zimbabwe'],\n ['India'],\n ['Albania',\n  'Armenia',\n  'Azerbaijan',\n  'Bahrain',\n  'Barbados',\n  'Bosnia and Herzegovina',\n  'Bulgaria',\n  'Croatia',\n  'Cuba',\n  'Cyprus',\n  'Czech Republic',\n  'Estonia',\n  'Georgia',\n  'Greece',\n  'Hungary',\n  'Iran',\n  'Jordan',\n  'Kazakhstan',\n  'Kuwait',\n  'Kyrgyz Republic',\n  'Latvia',\n  'Lithuania',\n  'Macedonia',\n  'Malaysia',\n  'Malta',\n  'Moldova',\n  'Oman',\n  'Poland',\n  'Romania',\n  'San Marino',\n  'Saudi Arabia',\n  'Serbia',\n  'Seychelles',\n  'Slovakia',\n  'Slovenia',\n  'Sri Lanka',\n  'Tajikistan',\n  'Uzbekistan'],\n ['Austria',\n  'Belgium',\n  'Bermuda',\n  'Brunei Darussalam',\n  'Canada',\n  'Denmark',\n  'Finland',\n  'Hong Kong SAR, China',\n  'Iceland',\n  'Ireland',\n  'Israel',\n  'Liechtenstein',\n  'Luxembourg',\n  'Macao (Macau) SAR, China',\n  'Netherlands',\n  'New Zealand',\n  'Norway',\n  'Qatar',\n  'Singapore',\n  'Sweden',\n  'Switzerland',\n  'United Arab Emirates'],\n ['Angola',\n  'Benin',\n  'Cameroon',\n  'Central African Republic',\n  'Comoros',\n  'Congo',\n  'Guinea-Bissau',\n  'Madagascar',\n  'Malawi',\n  'Rwanda',\n  'Tanzania',\n  'Togo',\n  'Uganda',\n  'Zambia'],\n ['Bangladesh', 'Indonesia', 'Pakistan'],\n ['Cambodia',\n  'Ghana',\n  \"Lao People's Democratic Republic\",\n  'Liberia',\n  'Nepal',\n  'Nicaragua',\n  'Papua New Guinea',\n  'Sierra Leone',\n  'Yemen'],\n ['China'],\n ['Gabon',\n  'Iraq',\n  'Lesotho',\n  'Libya',\n  'Namibia',\n  'Sao Tome and Principe',\n  'South Africa'],\n [\"Democratic People's Republic of Korea\"]]"
      ]
     },
     "execution_count": 67,
     "metadata": {},
     "output_type": "execute_result"
    }
   ],
   "source": [
    "clusters"
   ]
  },
  {
   "cell_type": "code",
   "execution_count": 68,
   "metadata": {},
   "outputs": [
    {
     "data": {
      "text/plain": [
       "[['Afghanistan',\n  'Burkina Faso',\n  \"Cote d'Ivoire\",\n  'Ethiopia',\n  'Guinea',\n  'Mali',\n  'Mauritania',\n  'Mozambique',\n  'Niger',\n  'Senegal',\n  'Sierra Leone'],\n ['Antigua and Barbuda',\n  'Aruba',\n  'Bahamas',\n  'Brunei Darussalam',\n  'China',\n  'Dominica',\n  'Egypt',\n  'Fiji',\n  'Hong Kong SAR, China',\n  'Indonesia',\n  'Iran',\n  'Ireland',\n  'Jordan',\n  'Libya',\n  'Liechtenstein',\n  'Macao (Macau) SAR, China',\n  'Malaysia',\n  'Mauritius',\n  'Oman',\n  'Panama',\n  'Samoa',\n  'Saudi Arabia',\n  'Seychelles'],\n ['Algeria',\n  'Belize',\n  'Kiribati',\n  'Morocco',\n  'Namibia',\n  'Suriname',\n  'Tunisia'],\n ['Angola',\n  'Benin',\n  'Burundi',\n  'Cameroon',\n  'Comoros',\n  'Congo',\n  'Equatorial Guinea',\n  'Gabon',\n  'Guinea-Bissau',\n  'Iraq',\n  'Madagascar',\n  'Malawi',\n  'Sao Tome and Principe',\n  'Togo',\n  'Uganda'],\n ['Belgium',\n  'Canada',\n  'Cuba',\n  'Denmark',\n  'Estonia',\n  'Finland',\n  'France',\n  'Georgia',\n  'Greece',\n  'Iceland',\n  'Israel',\n  'Latvia',\n  'Netherlands',\n  'New Zealand',\n  'Norway',\n  'Palau',\n  'Poland',\n  'Slovenia',\n  'Sweden',\n  'United Kingdom'],\n ['Cambodia',\n  'Liberia',\n  'Nepal',\n  'Nicaragua',\n  'Papua New Guinea',\n  'Rwanda',\n  'Tanzania',\n  'Yemen',\n  'Zambia'],\n ['Bangladesh',\n  'Djibouti',\n  'Eritrea',\n  'Gambia',\n  'India',\n  'Kenya',\n  'Myanmar',\n  'Nigeria',\n  'Pakistan',\n  'Sudan'],\n ['Bhutan',\n  'Botswana',\n  'Guatemala',\n  'Honduras',\n  \"Lao People's Democratic Republic\",\n  'Lesotho',\n  'Maldives',\n  'Marshall Islands',\n  'Solomon Islands',\n  'South Africa',\n  'Swaziland',\n  'Syria',\n  'Timor-Leste',\n  'Vanuatu',\n  'Zimbabwe'],\n ['Central African Republic', 'Chad'],\n ['Bahrain',\n  'Barbados',\n  'Bermuda',\n  'Bosnia and Herzegovina',\n  'Cyprus',\n  'Italy',\n  'Japan',\n  'Kuwait',\n  'Luxembourg',\n  'Malta',\n  'Qatar',\n  'San Marino',\n  'Serbia',\n  'Singapore',\n  'Spain',\n  'Switzerland',\n  'United Arab Emirates'],\n ['Belarus', \"Democratic People's Republic of Korea\", 'Ukraine'],\n ['Argentina', 'Brazil', 'Costa Rica', 'Portugal', 'Tonga', 'Uruguay'],\n ['Albania',\n  'Armenia',\n  'Austria',\n  'Azerbaijan',\n  'Bulgaria',\n  'Croatia',\n  'Czech Republic',\n  'Germany',\n  'Hungary',\n  'Kazakhstan',\n  'Kyrgyz Republic',\n  'Lithuania',\n  'Macedonia',\n  'Moldova',\n  'Romania',\n  'Russian Federation',\n  'Slovakia',\n  'Sri Lanka',\n  'Tajikistan',\n  'Uzbekistan'],\n ['Ghana',\n  'Guyana',\n  'Jamaica',\n  'Lebanon',\n  'Mongolia',\n  'Thailand',\n  'Trinidad and Tobago',\n  'Vietnam'],\n ['Bolivia',\n  'Chile',\n  'Colombia',\n  'Dominican Republic',\n  'Ecuador',\n  'El Salvador',\n  'Mexico',\n  'Paraguay',\n  'Peru',\n  'Philippines',\n  'Turkey',\n  'Venezuela']]"
      ]
     },
     "execution_count": 68,
     "metadata": {},
     "output_type": "execute_result"
    }
   ],
   "source": [
    "education_data = standardized_data[[1, 2, 3, 4, 5, 6, 7, 8, 9, 10, 11, 12, 13, 20, 21, 22, 23]]\n",
    "cluster_vals_ed = kmeans.fit_predict(education_data)\n",
    "cv_sr_ed = pd.Series(cluster_vals_ed)\n",
    "clusters_ed = []\n",
    "for i in range(15):\n",
    "    clusters_ed.append(country_data['Country'][cv_sr_ed == i].to_list())\n",
    "clusters_ed"
   ]
  },
  {
   "cell_type": "code",
   "execution_count": 69,
   "metadata": {},
   "outputs": [
    {
     "data": {
      "text/plain": [
       "[['Lesotho', 'South Africa'],\n ['Angola',\n  'Bolivia',\n  'Burundi',\n  'Cameroon',\n  'Central African Republic',\n  'Chad',\n  'Comoros',\n  'Congo',\n  'Equatorial Guinea',\n  'Ethiopia',\n  'Guatemala',\n  'Guinea',\n  'Kenya',\n  'Liberia',\n  'Madagascar',\n  'Malawi',\n  'Mali',\n  'Mozambique',\n  'Nigeria',\n  'Rwanda',\n  'Sierra Leone',\n  'Tanzania',\n  'Togo',\n  'Uganda'],\n ['China'],\n ['Austria',\n  'Belgium',\n  'Brunei Darussalam',\n  'Denmark',\n  'Finland',\n  'Hong Kong SAR, China',\n  'Iceland',\n  'Ireland',\n  'Israel',\n  'Kuwait',\n  'Netherlands',\n  'New Zealand',\n  'Qatar',\n  'Singapore',\n  'Sweden',\n  'United Arab Emirates'],\n ['India'],\n ['Brazil', 'Indonesia', 'Russian Federation'],\n ['Azerbaijan',\n  'Bahrain',\n  'Belarus',\n  'Belize',\n  'Bhutan',\n  'Ecuador',\n  'El Salvador',\n  'Jamaica',\n  'Kazakhstan',\n  'Kyrgyz Republic',\n  'Lebanon',\n  'Portugal',\n  'Romania',\n  'Serbia',\n  'Suriname',\n  'Swaziland',\n  'Syria',\n  'Timor-Leste',\n  'Trinidad and Tobago',\n  'Vietnam'],\n ['Bermuda',\n  'Liechtenstein',\n  'Luxembourg',\n  'Macao (Macau) SAR, China',\n  'Norway',\n  'Switzerland'],\n ['Canada',\n  \"Democratic People's Republic of Korea\",\n  'France',\n  'Italy',\n  'Spain',\n  'United Kingdom'],\n ['Afghanistan',\n  'Albania',\n  'Algeria',\n  'Argentina',\n  'Barbados',\n  'Chile',\n  'Colombia',\n  'Djibouti',\n  'Egypt',\n  'Georgia',\n  'Iran',\n  'Iraq',\n  'Mauritania',\n  'Morocco',\n  'Panama',\n  'Sao Tome and Principe',\n  'Turkey',\n  'Ukraine',\n  'Uruguay',\n  'Venezuela',\n  'Yemen'],\n ['Bangladesh', 'Mexico', 'Pakistan', 'Philippines', 'Thailand'],\n ['Antigua and Barbuda',\n  'Aruba',\n  'Bulgaria',\n  'Croatia',\n  'Cuba',\n  'Cyprus',\n  'Czech Republic',\n  'Dominica',\n  'Dominican Republic',\n  'Eritrea',\n  'Estonia',\n  'Fiji',\n  'Gambia',\n  'Honduras',\n  'Hungary',\n  'Kiribati',\n  \"Lao People's Democratic Republic\",\n  'Latvia',\n  'Lithuania',\n  'Macedonia',\n  'Malaysia',\n  'Maldives',\n  'Malta',\n  'Marshall Islands',\n  'Mauritius',\n  'Moldova',\n  'Mongolia',\n  'Myanmar',\n  'Nicaragua',\n  'Oman',\n  'Palau',\n  'Papua New Guinea',\n  'Paraguay',\n  'Poland',\n  'Samoa',\n  'San Marino',\n  'Saudi Arabia',\n  'Senegal',\n  'Seychelles',\n  'Slovakia',\n  'Slovenia',\n  'Solomon Islands',\n  'Sri Lanka',\n  'Tajikistan',\n  'Tonga',\n  'Uzbekistan',\n  'Vanuatu',\n  'Zimbabwe'],\n ['Benin',\n  'Burkina Faso',\n  'Cambodia',\n  \"Cote d'Ivoire\",\n  'Ghana',\n  'Guinea-Bissau',\n  'Nepal',\n  'Niger',\n  'Peru',\n  'Zambia'],\n ['Germany', 'Japan'],\n ['Armenia',\n  'Bahamas',\n  'Bosnia and Herzegovina',\n  'Botswana',\n  'Costa Rica',\n  'Gabon',\n  'Greece',\n  'Guyana',\n  'Jordan',\n  'Libya',\n  'Namibia',\n  'Sudan',\n  'Tunisia']]"
      ]
     },
     "execution_count": 69,
     "metadata": {},
     "output_type": "execute_result"
    }
   ],
   "source": [
    "economic_data = standardized_data[[0, 14, 15, 16, 17, 18, 19]]\n",
    "cluster_vals_ec = kmeans.fit_predict(economic_data)\n",
    "cv_sr_ec = pd.Series(cluster_vals_ec)\n",
    "clusters_ec = []\n",
    "for i in range(15):\n",
    "    clusters_ec.append(country_data['Country'][cv_sr_ec == i].to_list())\n",
    "clusters_ec"
   ]
  },
  {
   "cell_type": "code",
   "execution_count": null,
   "metadata": {},
   "outputs": [],
   "source": []
  }
 ],
 "metadata": {
  "kernelspec": {
   "display_name": "Python 2",
   "language": "python",
   "name": "python2"
  },
  "language_info": {
   "codemirror_mode": {
    "name": "ipython",
    "version": 2
   },
   "file_extension": ".py",
   "mimetype": "text/x-python",
   "name": "python",
   "nbconvert_exporter": "python",
   "pygments_lexer": "ipython2",
   "version": "2.7.6"
  }
 },
 "nbformat": 4,
 "nbformat_minor": 0
}
